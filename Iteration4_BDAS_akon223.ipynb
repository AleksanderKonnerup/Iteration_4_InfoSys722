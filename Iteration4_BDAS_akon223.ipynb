{
 "cells": [
  {
   "cell_type": "code",
   "execution_count": 1,
   "metadata": {},
   "outputs": [],
   "source": [
    "# Must be included at the beginning of each new notebook. Remember to change the app name.\n",
    "import findspark\n",
    "findspark.init('/home/ubuntu/spark-2.1.1-bin-hadoop2.7')\n",
    "import pyspark\n",
    "from pyspark.sql import SparkSession\n",
    "spark = SparkSession.builder.appName('Iteration4_docs').getOrCreate()\n",
    "\n",
    "# If you're getting an error with numpy, please type 'sudo pip install numpy --user' into the EC2 console.\n",
    "from pyspark.mllib.tree import RandomForest, RandomForestModel\n",
    "from pyspark.mllib.util import MLUtils"
   ]
  },
  {
   "cell_type": "code",
   "execution_count": 2,
   "metadata": {},
   "outputs": [],
   "source": [
    "fwData = spark.read.csv(\"Datasets/FoodWasteDataFAO.csv\", inferSchema=True, header=True)"
   ]
  },
  {
   "cell_type": "code",
   "execution_count": 3,
   "metadata": {},
   "outputs": [
    {
     "name": "stdout",
     "output_type": "stream",
     "text": [
      "root\n",
      " |-- geographicaream49: string (nullable = true)\n",
      " |-- country: string (nullable = true)\n",
      " |-- region: string (nullable = true)\n",
      " |-- measureditemcpc: string (nullable = true)\n",
      " |-- crop: string (nullable = true)\n",
      " |-- timepointyears: string (nullable = true)\n",
      " |-- loss_per_clean: string (nullable = true)\n",
      " |-- percentage_loss_of_quantity: string (nullable = true)\n",
      " |-- loss_quantity: string (nullable = true)\n",
      " |-- loss_qualitiative: string (nullable = true)\n",
      " |-- loss_monetary: string (nullable = true)\n",
      " |-- activity: string (nullable = true)\n",
      " |-- fsc_location1: string (nullable = true)\n",
      " |-- periodofstorage: string (nullable = true)\n",
      " |-- treatment: string (nullable = true)\n",
      " |-- causeofloss: string (nullable = true)\n",
      " |-- samplesize: string (nullable = true)\n",
      " |-- units: string (nullable = true)\n",
      " |-- method_datacollection: string (nullable = true)\n",
      " |-- tag_datacollection: string (nullable = true)\n",
      " |-- reference: string (nullable = true)\n",
      " |-- url: string (nullable = true)\n",
      "\n"
     ]
    }
   ],
   "source": [
    "fwData.printSchema()"
   ]
  },
  {
   "cell_type": "code",
   "execution_count": 4,
   "metadata": {},
   "outputs": [
    {
     "data": {
      "text/plain": [
       "Row(geographicaream49='100', country='Bulgaria', region=None, measureditemcpc='0111', crop='wheat', timepointyears='2000', loss_per_clean='1.7978', percentage_loss_of_quantity=None, loss_quantity=None, loss_qualitiative=None, loss_monetary=None, activity=None, fsc_location1='Total Supply Chain Estimate', periodofstorage=None, treatment=None, causeofloss=None, samplesize=None, units=None, method_datacollection=None, tag_datacollection='Food Balance Sheet/Ag. Production Questionnaire', reference=None, url=None)"
      ]
     },
     "execution_count": 4,
     "metadata": {},
     "output_type": "execute_result"
    }
   ],
   "source": [
    "fwData.head()"
   ]
  },
  {
   "cell_type": "code",
   "execution_count": 5,
   "metadata": {
    "scrolled": true
   },
   "outputs": [
    {
     "name": "stdout",
     "output_type": "stream",
     "text": [
      "100\n",
      "Bulgaria\n",
      "None\n",
      "0111\n",
      "wheat\n",
      "2000\n",
      "1.7978\n",
      "None\n",
      "None\n",
      "None\n",
      "None\n",
      "None\n",
      "Total Supply Chain Estimate\n",
      "None\n",
      "None\n",
      "None\n",
      "None\n",
      "None\n",
      "None\n",
      "Food Balance Sheet/Ag. Production Questionnaire\n",
      "None\n",
      "None\n"
     ]
    }
   ],
   "source": [
    "for item in fwData.head():\n",
    "    print(item)"
   ]
  },
  {
   "cell_type": "code",
   "execution_count": 6,
   "metadata": {},
   "outputs": [
    {
     "name": "stdout",
     "output_type": "stream",
     "text": [
      "+-----------------+-------+------+---------------+----+--------------+--------------+---------------------------+-------------+-----------------+-------------+--------+-------------+---------------+---------+-----------+----------+-----+---------------------+------------------+---------+-----+\n",
      "|geographicaream49|country|region|measureditemcpc|crop|timepointyears|loss_per_clean|percentage_loss_of_quantity|loss_quantity|loss_qualitiative|loss_monetary|activity|fsc_location1|periodofstorage|treatment|causeofloss|samplesize|units|method_datacollection|tag_datacollection|reference|  url|\n",
      "+-----------------+-------+------+---------------+----+--------------+--------------+---------------------------+-------------+-----------------+-------------+--------+-------------+---------------+---------+-----------+----------+-----+---------------------+------------------+---------+-----+\n",
      "|                0|    249| 17865|             57|  50|           121|          1188|                      12326|        16751|            18471|        18487|   15958|          278|          18495|    18539|      17607|     17552|18520|                13573|               204|    12717|13482|\n",
      "+-----------------+-------+------+---------------+----+--------------+--------------+---------------------------+-------------+-----------------+-------------+--------+-------------+---------------+---------+-----------+----------+-----+---------------------+------------------+---------+-----+\n",
      "\n"
     ]
    }
   ],
   "source": [
    "from pyspark.sql.functions import isnan,isnull, when, count, col\n",
    "fwData.select([count(when(isnull(c), c)).alias(c) for c in fwData.columns]).show()"
   ]
  },
  {
   "cell_type": "code",
   "execution_count": 7,
   "metadata": {},
   "outputs": [
    {
     "name": "stdout",
     "output_type": "stream",
     "text": [
      "+-----------------+-------+------+---------------+----+--------------+--------------+---------------------------+-------------+-----------------+-------------+--------+-------------+---------------+---------+-----------+----------+-----+---------------------+------------------+---------+---+\n",
      "|geographicaream49|country|region|measureditemcpc|crop|timepointyears|loss_per_clean|percentage_loss_of_quantity|loss_quantity|loss_qualitiative|loss_monetary|activity|fsc_location1|periodofstorage|treatment|causeofloss|samplesize|units|method_datacollection|tag_datacollection|reference|url|\n",
      "+-----------------+-------+------+---------------+----+--------------+--------------+---------------------------+-------------+-----------------+-------------+--------+-------------+---------------+---------+-----------+----------+-----+---------------------+------------------+---------+---+\n",
      "|                0|      0|     0|              0|   0|             0|             0|                          0|            0|                0|            0|       0|            0|              0|        0|          0|         0|    0|                    0|                 0|        0|  0|\n",
      "+-----------------+-------+------+---------------+----+--------------+--------------+---------------------------+-------------+-----------------+-------------+--------+-------------+---------------+---------+-----------+----------+-----+---------------------+------------------+---------+---+\n",
      "\n"
     ]
    }
   ],
   "source": [
    "fwData.select([count(when(isnan(c), c)).alias(c) for c in fwData.columns]).show()"
   ]
  },
  {
   "cell_type": "code",
   "execution_count": 8,
   "metadata": {},
   "outputs": [],
   "source": [
    "selected_fwData = fwData.select(['geographicaream49','country', 'region', 'crop', 'timepointyears', \n",
    "                               'loss_per_clean', 'percentage_loss_of_quantity', 'loss_quantity',\n",
    "                               'loss_qualitiative', 'loss_monetary', 'activity'])"
   ]
  },
  {
   "cell_type": "code",
   "execution_count": 9,
   "metadata": {},
   "outputs": [
    {
     "name": "stdout",
     "output_type": "stream",
     "text": [
      "root\n",
      " |-- geographicaream49: string (nullable = true)\n",
      " |-- country: string (nullable = true)\n",
      " |-- region: string (nullable = true)\n",
      " |-- crop: string (nullable = true)\n",
      " |-- timepointyears: string (nullable = true)\n",
      " |-- loss_per_clean: string (nullable = true)\n",
      " |-- percentage_loss_of_quantity: string (nullable = true)\n",
      " |-- loss_quantity: string (nullable = true)\n",
      " |-- loss_qualitiative: string (nullable = true)\n",
      " |-- loss_monetary: string (nullable = true)\n",
      " |-- activity: string (nullable = true)\n",
      "\n"
     ]
    }
   ],
   "source": [
    "selected_fwData.printSchema()"
   ]
  },
  {
   "cell_type": "code",
   "execution_count": 10,
   "metadata": {},
   "outputs": [
    {
     "name": "stdout",
     "output_type": "stream",
     "text": [
      "root\n",
      " |-- geographicarea: string (nullable = true)\n",
      " |-- country: string (nullable = true)\n",
      " |-- region: string (nullable = true)\n",
      " |-- crop: string (nullable = true)\n",
      " |-- timepointyears: string (nullable = true)\n",
      " |-- loss_per_clean: string (nullable = true)\n",
      " |-- percentage_loss_of_quantity: string (nullable = true)\n",
      " |-- loss_quantity: string (nullable = true)\n",
      " |-- loss_qualitiative: string (nullable = true)\n",
      " |-- loss_monetary: string (nullable = true)\n",
      " |-- activity: string (nullable = true)\n",
      "\n"
     ]
    }
   ],
   "source": [
    "renamed_fwData = selected_fwData.withColumnRenamed(\"geographicaream49\", \"geographicarea\")\n",
    "renamed_fwData.printSchema()"
   ]
  },
  {
   "cell_type": "code",
   "execution_count": 11,
   "metadata": {},
   "outputs": [
    {
     "name": "stdout",
     "output_type": "stream",
     "text": [
      "+--------------------+\n",
      "|                crop|\n",
      "+--------------------+\n",
      "|               wheat|\n",
      "|groundnuts, exclu...|\n",
      "+--------------------+\n",
      "only showing top 2 rows\n",
      "\n",
      "+--------------------+\n",
      "|                crop|\n",
      "+--------------------+\n",
      "|               wheat|\n",
      "|groundnuts exclud...|\n",
      "+--------------------+\n",
      "only showing top 2 rows\n",
      "\n"
     ]
    }
   ],
   "source": [
    "from pyspark.sql.types import IntegerType\n",
    "from pyspark.sql.functions import *\n",
    "\n",
    "renamed_fwData.select(\"crop\").show(2)\n",
    "\n",
    "allColNames = renamed_fwData.columns\n",
    "for colName in allColNames:\n",
    "    renamed_fwData = renamed_fwData.withColumn(colName, regexp_replace(colName, \"[,]\", \"\"))\n",
    "    renamed_fwData = renamed_fwData.withColumn(colName, regexp_replace(colName, \"[-]\", \"\"))\n",
    "    renamed_fwData = renamed_fwData.withColumn(colName, regexp_replace(colName, \"[/]\", \"\"))\n",
    "    renamed_fwData = renamed_fwData.withColumn(colName, regexp_replace(colName, '[\"]', \"\"))\n",
    "    renamed_fwData = renamed_fwData.withColumn(colName, regexp_replace(colName, \"[(]\", \"\"))\n",
    "    renamed_fwData = renamed_fwData.withColumn(colName, regexp_replace(colName, \"[)]\", \"\"))\n",
    "\n",
    "renamed_fwData.select(\"crop\").show(2)"
   ]
  },
  {
   "cell_type": "code",
   "execution_count": 12,
   "metadata": {},
   "outputs": [
    {
     "name": "stdout",
     "output_type": "stream",
     "text": [
      "root\n",
      " |-- geographicarea: integer (nullable = true)\n",
      " |-- country: string (nullable = true)\n",
      " |-- region: string (nullable = true)\n",
      " |-- crop: string (nullable = true)\n",
      " |-- timepointyears: integer (nullable = true)\n",
      " |-- loss_per_clean: integer (nullable = true)\n",
      " |-- percentage_loss_of_quantity: integer (nullable = true)\n",
      " |-- loss_quantity: integer (nullable = true)\n",
      " |-- loss_qualitiative: string (nullable = true)\n",
      " |-- loss_monetary: string (nullable = true)\n",
      " |-- activity: string (nullable = true)\n",
      "\n"
     ]
    }
   ],
   "source": [
    "changedType_fwData = renamed_fwData.withColumn(\"geographicarea\", renamed_fwData[\"geographicarea\"]\n",
    "                                               .cast(IntegerType())).withColumn(\"timepointyears\", renamed_fwData[\"timepointyears\"]\n",
    "                                               .cast(IntegerType())).withColumn(\"loss_per_clean\", renamed_fwData[\"loss_per_clean\"]\n",
    "                                               .cast(IntegerType())).withColumn(\"percentage_loss_of_quantity\", renamed_fwData[\"percentage_loss_of_quantity\"]\n",
    "                                               .cast(IntegerType())).withColumn(\"loss_quantity\", renamed_fwData[\"loss_quantity\"]\n",
    "                                               .cast(IntegerType()))\n",
    "\n",
    "changedType_fwData.printSchema()"
   ]
  },
  {
   "cell_type": "code",
   "execution_count": 13,
   "metadata": {},
   "outputs": [
    {
     "name": "stdout",
     "output_type": "stream",
     "text": [
      "+--------------+-------+------+----+--------------+--------------+---------------------------+-------------+-----------------+-------------+--------+\n",
      "|geographicarea|country|region|crop|timepointyears|loss_per_clean|percentage_loss_of_quantity|loss_quantity|loss_qualitiative|loss_monetary|activity|\n",
      "+--------------+-------+------+----+--------------+--------------+---------------------------+-------------+-----------------+-------------+--------+\n",
      "|           111|    249| 17865|  50|           141|          1207|                      12522|        16856|            18471|        18487|   15958|\n",
      "+--------------+-------+------+----+--------------+--------------+---------------------------+-------------+-----------------+-------------+--------+\n",
      "\n"
     ]
    }
   ],
   "source": [
    "changedType_fwData.select([count(when(isnull(c), c)).alias(c) for c in changedType_fwData.columns]).show()"
   ]
  },
  {
   "cell_type": "code",
   "execution_count": 14,
   "metadata": {},
   "outputs": [
    {
     "name": "stdout",
     "output_type": "stream",
     "text": [
      "+--------------+-------+------+----+--------------+--------------+---------------------------+-------------+-----------------+-------------+--------+\n",
      "|geographicarea|country|region|crop|timepointyears|loss_per_clean|percentage_loss_of_quantity|loss_quantity|loss_qualitiative|loss_monetary|activity|\n",
      "+--------------+-------+------+----+--------------+--------------+---------------------------+-------------+-----------------+-------------+--------+\n",
      "|             0|      0| 17608|   0|             0|          1065|                      12155|        16489|            18135|        18141|   15593|\n",
      "+--------------+-------+------+----+--------------+--------------+---------------------------+-------------+-----------------+-------------+--------+\n",
      "\n"
     ]
    }
   ],
   "source": [
    "droppedNull_fwData = changedType_fwData.dropna(how='any', subset=('geographicarea','country','crop','timepointyears'))\n",
    "droppedNull_fwData.select([count(when(isnull(c), c)).alias(c) for c in droppedNull_fwData.columns]).show()"
   ]
  },
  {
   "cell_type": "code",
   "execution_count": 15,
   "metadata": {},
   "outputs": [
    {
     "name": "stdout",
     "output_type": "stream",
     "text": [
      "+---------------------------+--------------+-------------+\n",
      "|percentage_loss_of_quantity|loss_per_clean|loss_quantity|\n",
      "+---------------------------+--------------+-------------+\n",
      "|                       null|             1|         null|\n",
      "|                       null|             5|         null|\n",
      "+---------------------------+--------------+-------------+\n",
      "only showing top 2 rows\n",
      "\n",
      "+---------------------------+--------------+-------------+\n",
      "|percentage_loss_of_quantity|loss_per_clean|loss_quantity|\n",
      "+---------------------------+--------------+-------------+\n",
      "|                         45|             1|       143336|\n",
      "|                         45|             5|       143336|\n",
      "+---------------------------+--------------+-------------+\n",
      "only showing top 2 rows\n",
      "\n"
     ]
    }
   ],
   "source": [
    "percentage_loss_val = droppedNull_fwData.select(mean(droppedNull_fwData.percentage_loss_of_quantity)).collect()\n",
    "loss_per_clean_val = droppedNull_fwData.select(mean(droppedNull_fwData.loss_per_clean)).collect()\n",
    "loss_quantity_val = droppedNull_fwData.select(mean(droppedNull_fwData.loss_quantity)).collect()\n",
    "\n",
    "percentage_loss_mean = percentage_loss_val[0][0]\n",
    "loss_per_clean_mean = loss_per_clean_val[0][0]\n",
    "loss_quantity_mean = loss_quantity_val[0][0]\n",
    "\n",
    "droppedNull_fwData.select('percentage_loss_of_quantity', 'loss_per_clean', 'loss_quantity').show(2)\n",
    "\n",
    "droppedNull_fwData = droppedNull_fwData.fillna(percentage_loss_mean, subset=['percentage_loss_of_quantity'])\n",
    "droppedNull_fwData = droppedNull_fwData.fillna(loss_per_clean_mean, subset=['loss_per_clean'])\n",
    "droppedNull_fwData = droppedNull_fwData.fillna(loss_quantity_mean, subset=['loss_quantity'])\n",
    "\n",
    "droppedNull_fwData.select('percentage_loss_of_quantity', 'loss_per_clean', 'loss_quantity').show(2)"
   ]
  },
  {
   "cell_type": "code",
   "execution_count": 16,
   "metadata": {},
   "outputs": [
    {
     "name": "stdout",
     "output_type": "stream",
     "text": [
      "+--------------+-------+------+----+--------------+--------------+---------------------------+-------------+-----------------+-------------+--------+\n",
      "|geographicarea|country|region|crop|timepointyears|loss_per_clean|percentage_loss_of_quantity|loss_quantity|loss_qualitiative|loss_monetary|activity|\n",
      "+--------------+-------+------+----+--------------+--------------+---------------------------+-------------+-----------------+-------------+--------+\n",
      "|             0|      0|     0|   0|             0|             0|                          0|            0|                0|            0|       0|\n",
      "+--------------+-------+------+----+--------------+--------------+---------------------------+-------------+-----------------+-------------+--------+\n",
      "\n"
     ]
    }
   ],
   "source": [
    "final_fwData = droppedNull_fwData.fillna('missing', subset=['region', 'loss_qualitiative', 'loss_monetary', 'activity'])\n",
    "\n",
    "final_fwData.select([count(when(isnull(c), c)).alias(c) for c in final_fwData.columns]).show()"
   ]
  },
  {
   "cell_type": "code",
   "execution_count": 17,
   "metadata": {},
   "outputs": [
    {
     "name": "stdout",
     "output_type": "stream",
     "text": [
      "root\n",
      " |-- geographicarea: integer (nullable = true)\n",
      " |-- country: string (nullable = true)\n",
      " |-- region: string (nullable = false)\n",
      " |-- crop: string (nullable = true)\n",
      " |-- timepointyears: integer (nullable = true)\n",
      " |-- loss_per_clean: integer (nullable = true)\n",
      " |-- percentage_loss_of_quantity: integer (nullable = true)\n",
      " |-- loss_quantity: integer (nullable = true)\n",
      " |-- loss_qualitiative: string (nullable = false)\n",
      " |-- loss_monetary: string (nullable = false)\n",
      " |-- activity: string (nullable = false)\n",
      " |-- id: long (nullable = false)\n",
      "\n"
     ]
    }
   ],
   "source": [
    "final_fwData = final_fwData.withColumn(\"id\", monotonically_increasing_id())\n",
    "final_fwData.printSchema()"
   ]
  },
  {
   "cell_type": "code",
   "execution_count": 18,
   "metadata": {},
   "outputs": [
    {
     "name": "stdout",
     "output_type": "stream",
     "text": [
      "+---+\n",
      "| id|\n",
      "+---+\n",
      "|  0|\n",
      "|  1|\n",
      "|  2|\n",
      "|  3|\n",
      "|  4|\n",
      "|  5|\n",
      "|  6|\n",
      "|  7|\n",
      "|  8|\n",
      "|  9|\n",
      "+---+\n",
      "only showing top 10 rows\n",
      "\n"
     ]
    }
   ],
   "source": [
    "final_fwData.select(\"id\").show(10)"
   ]
  },
  {
   "cell_type": "code",
   "execution_count": 19,
   "metadata": {
    "scrolled": true
   },
   "outputs": [
    {
     "name": "stdout",
     "output_type": "stream",
     "text": [
      "root\n",
      " |-- id: long (nullable = false)\n",
      " |-- geographicarea: integer (nullable = true)\n",
      " |-- country: string (nullable = true)\n",
      " |-- region: string (nullable = false)\n",
      " |-- crop: string (nullable = true)\n",
      " |-- timepointyears: integer (nullable = true)\n",
      " |-- loss_per_clean: integer (nullable = true)\n",
      " |-- percentage_loss_of_quantity: integer (nullable = true)\n",
      " |-- loss_quantity: integer (nullable = true)\n",
      " |-- loss_qualitiative: string (nullable = false)\n",
      " |-- loss_monetary: string (nullable = false)\n",
      " |-- activity: string (nullable = false)\n",
      "\n"
     ]
    }
   ],
   "source": [
    "final_fwData = final_fwData.select([\"id\", \"geographicarea\", \"country\", \n",
    "                                   \"region\", \"crop\", \"timepointyears\", \n",
    "                                   \"loss_per_clean\", \"percentage_loss_of_quantity\", \"loss_quantity\",\n",
    "                                   \"loss_qualitiative\", \"loss_monetary\", \"activity\"])\n",
    "final_fwData.printSchema()"
   ]
  },
  {
   "cell_type": "code",
   "execution_count": 20,
   "metadata": {
    "scrolled": true
   },
   "outputs": [
    {
     "name": "stdout",
     "output_type": "stream",
     "text": [
      "No of rows before reduction:  18174\n",
      "No of rows after reduction:  15000\n"
     ]
    }
   ],
   "source": [
    "print(\"No of rows before reduction: \" , final_fwData.count())\n",
    "\n",
    "final_fwData_reduced = final_fwData.filter(final_fwData.id < 15000)\n",
    "\n",
    "print(\"No of rows after reduction: \" ,final_fwData_reduced.count())"
   ]
  },
  {
   "cell_type": "code",
   "execution_count": 21,
   "metadata": {},
   "outputs": [
    {
     "data": {
      "image/png": "[encoded data removed]",
      "text/plain": [
       "<Figure size 432x288 with 1 Axes>"
      ]
     },
     "metadata": {},
     "output_type": "display_data"
    },
    {
     "data": {
      "image/png": "[encoded data removed]",
      "text/plain": [
       "<Figure size 432x288 with 1 Axes>"
      ]
     },
     "metadata": {},
     "output_type": "display_data"
    },
    {
     "data": {
      "image/png": "[encoded data removed]",
      "text/plain": [
       "<Figure size 432x288 with 1 Axes>"
      ]
     },
     "metadata": {},
     "output_type": "display_data"
    },
    {
     "data": {
      "image/png": "[encoded data removed]",
      "text/plain": [
       "<Figure size 432x288 with 1 Axes>"
      ]
     },
     "metadata": {},
     "output_type": "display_data"
    },
    {
     "data": {
      "image/png": "[encoded data removed]",
      "text/plain": [
       "<Figure size 432x288 with 1 Axes>"
      ]
     },
     "metadata": {},
     "output_type": "display_data"
    },
    {
     "data": {
      "image/png": "[encoded data removed]",
      "text/plain": [
       "<Figure size 432x288 with 1 Axes>"
      ]
     },
     "metadata": {},
     "output_type": "display_data"
    }
   ],
   "source": [
    "import numpy as np\n",
    "import matplotlib.pyplot as plt\n",
    "%matplotlib inline\n",
    "\n",
    "geographicareaArray = np.array(final_fwData_reduced.select('geographicarea').collect())\n",
    "plt.hist(geographicareaArray)\n",
    "plt.title(\"Distribution of geographic area\")\n",
    "plt.show()\n",
    "\n",
    "timepointyearsArray = np.array(final_fwData_reduced.select('timepointyears').collect())\n",
    "plt.hist(timepointyearsArray)\n",
    "plt.title(\"Distribution of timepointyears\")\n",
    "plt.show()\n",
    "\n",
    "percentageLossArray = np.array(final_fwData_reduced.select('loss_quantity').collect())\n",
    "plt.hist(percentageLossArray)\n",
    "plt.title(\"Distribution of percentage loss of quantity\")\n",
    "plt.show()\n",
    "\n",
    "lossPerCleanArray = np.array(final_fwData_reduced.select('loss_per_clean').collect())\n",
    "plt.hist(lossPerCleanArray)\n",
    "plt.title(\"Distribution of loss per clean\")\n",
    "plt.show()\n",
    "\n",
    "CountryArray = np.array(final_fwData_reduced.select('country').collect())\n",
    "plt.hist(CountryArray)\n",
    "plt.title(\"Distribution of country\")\n",
    "plt.show()\n",
    "\n",
    "CropArray = np.array(final_fwData_reduced.select('crop').collect())\n",
    "plt.hist(CropArray)\n",
    "plt.title(\"Distribution of crop\")\n",
    "plt.show()"
   ]
  },
  {
   "cell_type": "code",
   "execution_count": 47,
   "metadata": {},
   "outputs": [
    {
     "name": "stdout",
     "output_type": "stream",
     "text": [
      "size of training data:  10606\n",
      "size of test data:  4394\n"
     ]
    }
   ],
   "source": [
    "from pyspark.ml import Pipeline\n",
    "from pyspark.ml.regression import RandomForestRegressor\n",
    "from pyspark.ml.feature import VectorIndexer\n",
    "from pyspark.ml.evaluation import RegressionEvaluator\n",
    "from pyspark.ml.feature import VectorAssembler\n",
    "\n",
    "assembler = VectorAssembler(\n",
    "    inputCols=[\"timepointyears\", \"loss_per_clean\"],\n",
    "    outputCol=\"features\")\n",
    "\n",
    "transformed = assembler.transform(final_fwData_reduced)\n",
    "final_Data = transformed.select(\"features\", \"geographicarea\")\n",
    "\n",
    "featureIndexer =\\\n",
    "    VectorIndexer(inputCol=\"features\", outputCol=\"indexedFeatures\", maxCategories=4).fit(final_Data)\n",
    "\n",
    "(trainingFwData, testFwData) = final_Data.randomSplit([0.7, 0.3])\n",
    "print(\"size of training data: \", trainingFwData.count())\n",
    "print(\"size of test data: \", testFwData.count())"
   ]
  },
  {
   "cell_type": "code",
   "execution_count": 48,
   "metadata": {},
   "outputs": [
    {
     "name": "stdout",
     "output_type": "stream",
     "text": [
      "+-----------------+--------------+------------+\n",
      "|       prediction|geographicarea|    features|\n",
      "+-----------------+--------------+------------+\n",
      "|374.7879221240195|           112|[2000.0,0.0]|\n",
      "|374.7879221240195|           112|[2000.0,0.0]|\n",
      "|374.7879221240195|           124|[2000.0,0.0]|\n",
      "|374.7879221240195|           124|[2000.0,0.0]|\n",
      "|374.7879221240195|           124|[2000.0,0.0]|\n",
      "+-----------------+--------------+------------+\n",
      "only showing top 5 rows\n",
      "\n"
     ]
    }
   ],
   "source": [
    "rf = RandomForestRegressor(featuresCol=\"features\", labelCol=\"geographicarea\")\n",
    "\n",
    "pipeline = Pipeline(stages=[featureIndexer, rf])\n",
    "\n",
    "model = pipeline.fit(final_Data)\n",
    "\n",
    "predictions = model.transform(testFwData)\n",
    "\n",
    "predictions.select(\"prediction\", \"geographicarea\", \"features\").show(5)"
   ]
  },
  {
   "cell_type": "code",
   "execution_count": 49,
   "metadata": {},
   "outputs": [
    {
     "name": "stdout",
     "output_type": "stream",
     "text": [
      "Root Mean Squared Error (RMSE) on test data = 209.079\n",
      "Correct: 4394\n",
      "Total Correct: 0\n"
     ]
    }
   ],
   "source": [
    "evaluator = RegressionEvaluator(\n",
    "    labelCol=\"geographicarea\", predictionCol=\"prediction\", metricName=\"rmse\")\n",
    "rmse = evaluator.evaluate(predictions)\n",
    "print(\"Root Mean Squared Error (RMSE) on test data = %g\" % rmse)\n",
    "\n",
    "totalResults = predictions.select('geographicarea','prediction')\n",
    "\n",
    "correctResults = totalResults.filter(totalResults['geographicarea'] == totalResults['prediction'])\n",
    "\n",
    "countTR = totalResults.count()\n",
    "print(\"Correct: \" + str(countTR))\n",
    "\n",
    "countTC = correctResults.count()\n",
    "print(\"Total Correct: \" + str(countTC)) "
   ]
  },
  {
   "cell_type": "code",
   "execution_count": 50,
   "metadata": {},
   "outputs": [
    {
     "data": {
      "image/png": "[encoded data removed]",
      "text/plain": [
       "<Figure size 432x288 with 1 Axes>"
      ]
     },
     "metadata": {},
     "output_type": "display_data"
    }
   ],
   "source": [
    "predictionArray = np.array(predictions.select('prediction').collect())\n",
    "geographicAreaArray = np.array(predictions.select('geographicarea').collect())\n",
    "plt.hist(geographicAreaArray, label=\"actual value\")\n",
    "plt.hist(predictionArray, label=\"predicted value\")\n",
    "plt.title(\"Predicted values vs Actual values, without year and loss per clean\")\n",
    "plt.legend(loc='upper right')\n",
    "plt.show()"
   ]
  },
  {
   "cell_type": "code",
   "execution_count": null,
   "metadata": {},
   "outputs": [],
   "source": []
  }
 ],
 "metadata": {
  "kernelspec": {
   "display_name": "Python 3",
   "language": "python",
   "name": "python3"
  },
  "language_info": {
   "codemirror_mode": {
    "name": "ipython",
    "version": 3
   },
   "file_extension": ".py",
   "mimetype": "text/x-python",
   "name": "python",
   "nbconvert_exporter": "python",
   "pygments_lexer": "ipython3",
   "version": "3.5.2"
  }
 },
 "nbformat": 4,
 "nbformat_minor": 2
}
